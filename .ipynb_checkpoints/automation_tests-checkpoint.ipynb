{
 "cells": [
  {
   "cell_type": "code",
   "execution_count": 1,
   "id": "c15bf212-8cd3-4c37-b12d-850a20ef0de0",
   "metadata": {},
   "outputs": [],
   "source": [
    "from prompting.storywriter import StoryWriter"
   ]
  },
  {
   "cell_type": "code",
   "execution_count": 2,
   "id": "6fb520e5",
   "metadata": {},
   "outputs": [],
   "source": [
    "writer = StoryWriter()"
   ]
  },
  {
   "cell_type": "code",
   "execution_count": 10,
   "id": "29a0290a",
   "metadata": {},
   "outputs": [],
   "source": [
    "test_prompt = \"\"\"Write me an outline for an erotic love story titled 'Ink and Indulgence' where a talented tattoo artist named Zach forms intimate connections with two separate clients, Claire and James. Zach meets them during each of their tattoo sessions and quickly develops intimate relationships with both of them without the other knowing. A chance encounter finds the three characters in the same subway car after a night out in New York City. Claire and James find out that Zach has been seeing them both and the novella climxes with a passionate encounter with all three of them, leaving the future of their relationship undefined. \"\"\""
   ]
  },
  {
   "cell_type": "code",
   "execution_count": 11,
   "id": "c0f08590",
   "metadata": {},
   "outputs": [
    {
     "name": "stdout",
     "output_type": "stream",
     "text": [
      "Write me an outline for an erotic love story titled 'Ink and Indulgence' where a talented tattoo artist named Zach forms intimate connections with two separate clients, Claire and James. Zach meets them during each of their tattoo sessions and quickly develops intimate relationships with both of them without the other knowing. A chance encounter finds the three characters in the same subway car after a night out in New York City. Claire and James find out that Zach has been seeing them both and the novella climxes with a passionate encounter with all three of them, leaving the future of their relationship undefined.  The outline should be formatted as lists of plot points separated into chapters. Plot points should be extremely detailed, and should provide a thorough framework for the plot. The output should be formatted as a list of chapters with lists of extremely detailed plot points in each chapter.\n"
     ]
    }
   ],
   "source": [
    "top_outline = writer.outline(test_prompt)"
   ]
  },
  {
   "cell_type": "code",
   "execution_count": 12,
   "id": "00aa0017-6db8-4b5a-966f-b096c17aa3b5",
   "metadata": {},
   "outputs": [
    {
     "name": "stdout",
     "output_type": "stream",
     "text": [
      "Chapter 1: The Meet\n",
      "\n",
      "- Introduction to Zach, a talented tattoo artist working at an upscale tattoo studio in New York City.\n",
      "- Introduction to Claire, an independent and successful businesswoman who is contemplating getting a meaningful tattoo.\n",
      "- Claire visits the tattoo studio and meets Zach for the first time. There is an immediate connection between them.\n",
      "- Zach starts working on Claire's tattoo, and they exchange personal stories, building a stronger bond.\n",
      "\n",
      "Chapter 2: Unexpected Encounter\n",
      "\n",
      "- Introduction to James, a charismatic musician who is looking to get a new tattoo as an expression of his creativity.\n",
      "- James visits the tattoo studio and coincidentally meets Zach while Zach is on a break.\n",
      "- James and Zach strike up a conversation, instantly connecting over shared interests and witty banter.\n",
      "- Zach agrees to be James' tattoo artist, and they schedule a session for the following week.\n",
      "\n",
      "Chapter 3: The Dual Relationships Begin\n",
      "\n",
      "- Zach continues his tattoo sessions with Claire, and their connection deepens both emotionally and physically.\n",
      "- Claire becomes enamored with Zach's artistry and personality, finding solace in their growing bond.\n",
      "- Zach starts James' tattoo sessions, and their chemistry is undeniable. They fall into a passionate affair, keeping it a secret from Claire.\n",
      "- Zach finds himself torn between his growing feelings for both Claire and James, struggling with his ethical dilemma.\n",
      "\n",
      "Chapter 4: The Chance Encounter\n",
      "\n",
      "- Claire and James separately decide to go out for a night in New York City, looking for distractions and fun.\n",
      "- They unknowingly end up in the same subway car, each heading home after their separate adventures.\n",
      "- Zach coincidentally enters the same subway car, leading to a shocking realization for Claire and James.\n",
      "- Claire confronts Zach about his secret relationships, feeling betrayed and heartbroken.\n",
      "\n",
      "Chapter 5: Exploration and Vulnerability\n",
      "\n",
      "- Claire and James express their anger, confusion, and hurt to Zach, demanding answers and explanations.\n",
      "- In a vulnerable moment, Zach reveals his struggle to choose between them, admitting his deep feelings for both.\n",
      "- Claire and James, having grown closer through their shared experience, decide to explore their own feelings for each other.\n",
      "- The three characters engage in a passionate and intense encounter, exploring the boundaries of their desires.\n",
      "\n",
      "Chapter 6: The Aftermath\n",
      "\n",
      "- Claire, James, and Zach awaken after their passionate encounter, pondering the complexities of their situation.\n",
      "- They discuss the future of their relationship, considering the implications and potential consequences.\n",
      "- Each character reflects on their personal growth and the impact their connection has had on their lives thus far.\n",
      "- The novella ends on an open note, leaving the future of their relationship undefined, but filled with possibility.\n"
     ]
    }
   ],
   "source": [
    "print(top_outline)"
   ]
  },
  {
   "cell_type": "code",
   "execution_count": 13,
   "id": "196bdef4-b84c-4638-8a18-0e2d6c3265dc",
   "metadata": {},
   "outputs": [],
   "source": [
    "deep_outline = writer.robust_outline(top_outline)"
   ]
  },
  {
   "cell_type": "code",
   "execution_count": 16,
   "id": "6db2ac23-2aea-4dd5-b47b-1353ece755bf",
   "metadata": {
    "collapsed": true,
    "jupyter": {
     "outputs_hidden": true
    },
    "tags": []
   },
   "outputs": [
    {
     "data": {
      "text/plain": [
       "\"Chapter 1: The Meet\\n\\n- Zach, a heavily tattooed and brooding artist, is introduced working at Inked Obsession, a renowned tattoo studio in the heart of New York City.\\n- Claire, a strikingly successful and elegant businesswoman, walks into the studio looking for a unique tattoo to reflect her personality and life journey.\\n- Claire and Zach meet and immediately feel a mutual attraction, their eyes locking in a moment of electricity.\\n- Zach, intrigued by Claire's presence, offers to design a custom tattoo for her that embodies her desires and aspirations.\\n- As they engage in conversation, Zach learns about Claire's challenging childhood and her determination to rise above adversity.\\n- Claire is captivated by Zach's artistic talent and his ability to understand her deepest desires, making her feel seen and understood.\\n\\nChapter 2: Unexpected Encounter\\n\\n- James, a charismatic and free-spirited musician, visits Inked Obsession, drawn by the studio's reputation and unique designs.\\n- James and Zach meet during a break, striking up a witty and playful banter fueled by their shared love for music and art.\\n- Zach is drawn to James' vibrant energy and creative spirit, feeling an instant connection that leaves him wanting to know more.\\n- James expresses his desire for a tattoo that represents his free-spirited nature and musical passion, entrusting Zach to bring his vision to life.\\n- They schedule a tattoo session for the following week, each leaving with a lingering sense of anticipation.\\n\\nChapter 3: The Dual Relationships Begin\\n\\n- Zach continues his tattoo sessions with Claire, mesmerizing her with his skillful touch and outpouring of emotion through his art.\\n- Claire becomes increasingly enamored with Zach, finding solace and comfort in their deepening emotional connection.\\n- As James begins his tattoo sessions with Zach, their shared artistic endeavors unlock a profound understanding and admiration for one another.\\n- Their shared passion ignites a fiery, secret affair, fueled by stolen glances and lingering touches during their tattoo sessions.\\n- Zach grapples with his conflicted emotions, torn between guilt for betraying Claire's trust and the thrilling intensity of his connection with James.\\n\\nChapter 4: The Chance Encounter\\n\\n- Claire, feeling the need to escape her emotions, decides to spend a night exploring the vibrant nightlife of New York City.\\n- James, seeking inspiration and a night of music, chances upon the same underground jazz club as Claire, completely unaware of their connection.\\n- As they both find themselves in the same subway car, their eyes meet, and recognition sparks a mix of shock, confusion, and curiosity.\\n- Claire musters the courage to confront Zach, demanding answers and an explanation for his deceit, feeling a mix of anger, betrayal, and heartbreak.\\n- James, torn between his connection with Zach and his growing fascination with Claire, struggles to understand the complexity of their entangled relationships.\\n\\nChapter 5: Exploration and Vulnerability\\n\\n- Zach, overwhelmed by the confrontations, reveals his internal struggle of loving both Claire and James, his vulnerability shining through.\\n- Claire and James, in a rare moment of vulnerability, reflect on their own desires and their growing attraction to one another.\\n- The three characters engage in an intense and passionate encounter, exploring the depths of their desires and pushing the boundaries of their individual identities.\\n- As their inhibitions fade away, they discover a newfound intimacy and understanding, woven together through their complex emotions.\\n- Each character acknowledges the power of this encounter, reflecting on their own growth and the impact it will have on their lives going forward.\\n\\nChapter 6: The Aftermath\\n\\n- Claire, James, and Zach awaken in the aftermath of their passionate encounter, a mix of confusion, contemplation, and deep connection lingering in the air.\\n- They engage in a heartfelt conversation about the future of their relationship, acknowledging the complexity and potential consequences of their unconventional dynamic.\\n- Each character reflects on their personal growth since their initial meeting and how the connections they formed have shaped their lives.\\n- The novella ends on an open note, leaving the future of their relationship undefined but filled with endless possibilities, as they navigate the uncharted territory of love, desire, and self-discovery.\""
      ]
     },
     "execution_count": 16,
     "metadata": {},
     "output_type": "execute_result"
    }
   ],
   "source": [
    "deep_outline"
   ]
  },
  {
   "cell_type": "code",
   "execution_count": 3,
   "id": "7515dfee-fc40-469d-b92a-1c1f2729ec13",
   "metadata": {},
   "outputs": [],
   "source": [
    "deep_outline = \"Chapter 1: The Meet\\n\\n- Zach, a heavily tattooed and brooding artist, is introduced working at Inked Obsession, a renowned tattoo studio in the heart of New York City.\\n- Claire, a strikingly successful and elegant businesswoman, walks into the studio looking for a unique tattoo to reflect her personality and life journey.\\n- Claire and Zach meet and immediately feel a mutual attraction, their eyes locking in a moment of electricity.\\n- Zach, intrigued by Claire's presence, offers to design a custom tattoo for her that embodies her desires and aspirations.\\n- As they engage in conversation, Zach learns about Claire's challenging childhood and her determination to rise above adversity.\\n- Claire is captivated by Zach's artistic talent and his ability to understand her deepest desires, making her feel seen and understood.\\n\\nChapter 2: Unexpected Encounter\\n\\n- James, a charismatic and free-spirited musician, visits Inked Obsession, drawn by the studio's reputation and unique designs.\\n- James and Zach meet during a break, striking up a witty and playful banter fueled by their shared love for music and art.\\n- Zach is drawn to James' vibrant energy and creative spirit, feeling an instant connection that leaves him wanting to know more.\\n- James expresses his desire for a tattoo that represents his free-spirited nature and musical passion, entrusting Zach to bring his vision to life.\\n- They schedule a tattoo session for the following week, each leaving with a lingering sense of anticipation.\\n\\nChapter 3: The Dual Relationships Begin\\n\\n- Zach continues his tattoo sessions with Claire, mesmerizing her with his skillful touch and outpouring of emotion through his art.\\n- Claire becomes increasingly enamored with Zach, finding solace and comfort in their deepening emotional connection.\\n- As James begins his tattoo sessions with Zach, their shared artistic endeavors unlock a profound understanding and admiration for one another.\\n- Their shared passion ignites a fiery, secret affair, fueled by stolen glances and lingering touches during their tattoo sessions.\\n- Zach grapples with his conflicted emotions, torn between guilt for betraying Claire's trust and the thrilling intensity of his connection with James.\\n\\nChapter 4: The Chance Encounter\\n\\n- Claire, feeling the need to escape her emotions, decides to spend a night exploring the vibrant nightlife of New York City.\\n- James, seeking inspiration and a night of music, chances upon the same underground jazz club as Claire, completely unaware of their connection.\\n- As they both find themselves in the same subway car, their eyes meet, and recognition sparks a mix of shock, confusion, and curiosity.\\n- Claire musters the courage to confront Zach, demanding answers and an explanation for his deceit, feeling a mix of anger, betrayal, and heartbreak.\\n- James, torn between his connection with Zach and his growing fascination with Claire, struggles to understand the complexity of their entangled relationships.\\n\\nChapter 5: Exploration and Vulnerability\\n\\n- Zach, overwhelmed by the confrontations, reveals his internal struggle of loving both Claire and James, his vulnerability shining through.\\n- Claire and James, in a rare moment of vulnerability, reflect on their own desires and their growing attraction to one another.\\n- The three characters engage in an intense and passionate encounter, exploring the depths of their desires and pushing the boundaries of their individual identities.\\n- As their inhibitions fade away, they discover a newfound intimacy and understanding, woven together through their complex emotions.\\n- Each character acknowledges the power of this encounter, reflecting on their own growth and the impact it will have on their lives going forward.\\n\\nChapter 6: The Aftermath\\n\\n- Claire, James, and Zach awaken in the aftermath of their passionate encounter, a mix of confusion, contemplation, and deep connection lingering in the air.\\n- They engage in a heartfelt conversation about the future of their relationship, acknowledging the complexity and potential consequences of their unconventional dynamic.\\n- Each character reflects on their personal growth since their initial meeting and how the connections they formed have shaped their lives.\\n- The novella ends on an open note, leaving the future of their relationship undefined but filled with endless possibilities, as they navigate the uncharted territory of love, desire, and self-discovery.\""
   ]
  },
  {
   "cell_type": "code",
   "execution_count": 4,
   "id": "d5bed96b-4bfc-465c-b9dd-26b9de11b471",
   "metadata": {},
   "outputs": [
    {
     "name": "stdout",
     "output_type": "stream",
     "text": [
      "Chapter 1: The Meet\n",
      "\n",
      "- Zach, a heavily tattooed and brooding artist, is introduced working at Inked Obsession, a renowned tattoo studio in the heart of New York City.\n",
      "- Claire, a strikingly successful and elegant businesswoman, walks into the studio looking for a unique tattoo to reflect her personality and life journey.\n",
      "- Claire and Zach meet and immediately feel a mutual attraction, their eyes locking in a moment of electricity.\n",
      "- Zach, intrigued by Claire's presence, offers to design a custom tattoo for her that embodies her desires and aspirations.\n",
      "- As they engage in conversation, Zach learns about Claire's challenging childhood and her determination to rise above adversity.\n",
      "- Claire is captivated by Zach's artistic talent and his ability to understand her deepest desires, making her feel seen and understood.\n",
      "\n",
      "Chapter 2: Unexpected Encounter\n",
      "\n",
      "- James, a charismatic and free-spirited musician, visits Inked Obsession, drawn by the studio's reputation and unique designs.\n",
      "- James and Zach meet during a break, striking up a witty and playful banter fueled by their shared love for music and art.\n",
      "- Zach is drawn to James' vibrant energy and creative spirit, feeling an instant connection that leaves him wanting to know more.\n",
      "- James expresses his desire for a tattoo that represents his free-spirited nature and musical passion, entrusting Zach to bring his vision to life.\n",
      "- They schedule a tattoo session for the following week, each leaving with a lingering sense of anticipation.\n",
      "\n",
      "Chapter 3: The Dual Relationships Begin\n",
      "\n",
      "- Zach continues his tattoo sessions with Claire, mesmerizing her with his skillful touch and outpouring of emotion through his art.\n",
      "- Claire becomes increasingly enamored with Zach, finding solace and comfort in their deepening emotional connection.\n",
      "- As James begins his tattoo sessions with Zach, their shared artistic endeavors unlock a profound understanding and admiration for one another.\n",
      "- Their shared passion ignites a fiery, secret affair, fueled by stolen glances and lingering touches during their tattoo sessions.\n",
      "- Zach grapples with his conflicted emotions, torn between guilt for betraying Claire's trust and the thrilling intensity of his connection with James.\n",
      "\n",
      "Chapter 4: The Chance Encounter\n",
      "\n",
      "- Claire, feeling the need to escape her emotions, decides to spend a night exploring the vibrant nightlife of New York City.\n",
      "- James, seeking inspiration and a night of music, chances upon the same underground jazz club as Claire, completely unaware of their connection.\n",
      "- As they both find themselves in the same subway car, their eyes meet, and recognition sparks a mix of shock, confusion, and curiosity.\n",
      "- Claire musters the courage to confront Zach, demanding answers and an explanation for his deceit, feeling a mix of anger, betrayal, and heartbreak.\n",
      "- James, torn between his connection with Zach and his growing fascination with Claire, struggles to understand the complexity of their entangled relationships.\n",
      "\n",
      "Chapter 5: Exploration and Vulnerability\n",
      "\n",
      "- Zach, overwhelmed by the confrontations, reveals his internal struggle of loving both Claire and James, his vulnerability shining through.\n",
      "- Claire and James, in a rare moment of vulnerability, reflect on their own desires and their growing attraction to one another.\n",
      "- The three characters engage in an intense and passionate encounter, exploring the depths of their desires and pushing the boundaries of their individual identities.\n",
      "- As their inhibitions fade away, they discover a newfound intimacy and understanding, woven together through their complex emotions.\n",
      "- Each character acknowledges the power of this encounter, reflecting on their own growth and the impact it will have on their lives going forward.\n",
      "\n",
      "Chapter 6: The Aftermath\n",
      "\n",
      "- Claire, James, and Zach awaken in the aftermath of their passionate encounter, a mix of confusion, contemplation, and deep connection lingering in the air.\n",
      "- They engage in a heartfelt conversation about the future of their relationship, acknowledging the complexity and potential consequences of their unconventional dynamic.\n",
      "- Each character reflects on their personal growth since their initial meeting and how the connections they formed have shaped their lives.\n",
      "- The novella ends on an open note, leaving the future of their relationship undefined but filled with endless possibilities, as they navigate the uncharted territory of love, desire, and self-discovery.\n"
     ]
    }
   ],
   "source": [
    "print(deep_outline)"
   ]
  },
  {
   "cell_type": "code",
   "execution_count": null,
   "id": "92b2b24d-e532-44c0-9f1a-77f472d1ebdf",
   "metadata": {},
   "outputs": [],
   "source": [
    "chapter = writer.write_chapter(deep_outline, 5)"
   ]
  },
  {
   "cell_type": "code",
   "execution_count": null,
   "id": "a889073e-9f69-4e6e-8a56-b264ff791395",
   "metadata": {},
   "outputs": [],
   "source": []
  }
 ],
 "metadata": {
  "kernelspec": {
   "display_name": "Python 3 (ipykernel)",
   "language": "python",
   "name": "python3"
  },
  "language_info": {
   "codemirror_mode": {
    "name": "ipython",
    "version": 3
   },
   "file_extension": ".py",
   "mimetype": "text/x-python",
   "name": "python",
   "nbconvert_exporter": "python",
   "pygments_lexer": "ipython3",
   "version": "3.10.10"
  }
 },
 "nbformat": 4,
 "nbformat_minor": 5
}
