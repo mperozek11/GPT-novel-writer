{
 "cells": [
  {
   "cell_type": "code",
   "execution_count": 1,
   "id": "e20addf5-dc13-4e40-ac0c-05249d209716",
   "metadata": {},
   "outputs": [],
   "source": [
    "import os\n",
    "import openai\n",
    "import numpy as np"
   ]
  },
  {
   "cell_type": "code",
   "execution_count": 2,
   "id": "73ac0101-aafd-42ba-9db2-c159321b48ee",
   "metadata": {
    "tags": []
   },
   "outputs": [],
   "source": [
    "openai.organization = 'org-SVcbPvQFyGx47d4LxAQpHQGP'\n",
    "openai.api_key = os.getenv('OPENAI_API_KEY')\n",
    "# openai.Model.list()"
   ]
  },
  {
   "cell_type": "markdown",
   "id": "042be7ed-cf53-4d16-a09b-ebadc0343249",
   "metadata": {},
   "source": [
    "### Initial Outline step"
   ]
  },
  {
   "cell_type": "code",
   "execution_count": 31,
   "id": "1da03090-a290-421e-8c11-53be78fee295",
   "metadata": {},
   "outputs": [],
   "source": [
    "JSON_FORMAT_PROMT = \"\"\"\n",
    "The output should be formatted in json as a list of chapters like so:\n",
    "{\n",
    "\"chapters\": [\n",
    "    {\n",
    "        \"chapter_number\": 1,\n",
    "        \"title\": \"chapter 1 title\",\n",
    "        \"plot_points\": [\n",
    "            \"plot point 1\",\n",
    "            \"plot point 2\",\n",
    "            ...\n",
    "            \"final plot point\"\n",
    "            ]\n",
    "    },\n",
    "    {\n",
    "        \"chapter_number\": 2,\n",
    "        \"title\": \"chapter 2 title\",\n",
    "        \"plot_points\": [\n",
    "            \"plot point 1\",\n",
    "            \"plot point 2\",\n",
    "            ...\n",
    "            \"final plot point\"\n",
    "            ]\n",
    "    },\n",
    "    \n",
    "    ...\n",
    "    \n",
    "    {\n",
    "        \"chapter_number\": final chapter number,\n",
    "        \"title\": \"chapter title\",\n",
    "        \"plot_points\": [\n",
    "            \"plot point 1\",\n",
    "            \"plot point 2\",\n",
    "            ...\n",
    "            \"final plot point\"\n",
    "            ]\n",
    "    }\n",
    "}\n",
    "\n",
    "\"\"\""
   ]
  },
  {
   "cell_type": "code",
   "execution_count": 32,
   "id": "3eac9267-8337-4a98-b836-a3985739743c",
   "metadata": {},
   "outputs": [],
   "source": [
    "STORY_PROMPT = \"\"\"\n",
    "write me an outline for an erotic fan fiction love story about Harry Potter and Ginny Weasley. \n",
    "The fan fiction should take place over the course of one of the Hogwarts summer vacations.\n",
    "The story should have 6 chapters.\n",
    "\"\"\".strip()"
   ]
  },
  {
   "cell_type": "code",
   "execution_count": 33,
   "id": "fa89f70d-a2fe-4d83-88b6-910d58eb263b",
   "metadata": {},
   "outputs": [
    {
     "data": {
      "text/plain": [
       "'write me an outline for an erotic fan fiction love story about Harry Potter and Ginny Weasley. \\nThe fan fiction should take place over the course of one of the Hogwarts summer vacations.\\nThe story should have 6 chapters.'"
      ]
     },
     "execution_count": 33,
     "metadata": {},
     "output_type": "execute_result"
    }
   ],
   "source": [
    "STORY_PROMPT"
   ]
  },
  {
   "cell_type": "code",
   "execution_count": 37,
   "id": "ee71e167-5de5-4dd8-b811-d20a88517aeb",
   "metadata": {},
   "outputs": [],
   "source": [
    "full_prompt = f\"{STORY_PROMPT} The outline should be formatted as lists of plot points separated into chapters. {JSON_FORMAT_PROMT}\""
   ]
  },
  {
   "cell_type": "code",
   "execution_count": 38,
   "id": "95253ca7-01fd-4f22-8394-b2ecf5ea8446",
   "metadata": {},
   "outputs": [
    {
     "name": "stdout",
     "output_type": "stream",
     "text": [
      "write me an outline for an erotic fan fiction love story about Harry Potter and Ginny Weasley. \n",
      "The fan fiction should take place over the course of one of the Hogwarts summer vacations.\n",
      "The story should have 6 chapters. The outline should be formatted as lists of plot points separated into chapters. \n",
      "The output should be formatted in json as a list of chapters like so:\n",
      "{\n",
      "\"chapters\": [\n",
      "    {\n",
      "        \"chapter_number\": 1,\n",
      "        \"title\": \"chapter 1 title\",\n",
      "        \"plot_points\": [\n",
      "            \"plot point 1\",\n",
      "            \"plot point 2\",\n",
      "            ...\n",
      "            \"final plot point\"\n",
      "            ]\n",
      "    },\n",
      "    {\n",
      "        \"chapter_number\": 2,\n",
      "        \"title\": \"chapter 2 title\",\n",
      "        \"plot_points\": [\n",
      "            \"plot point 1\",\n",
      "            \"plot point 2\",\n",
      "            ...\n",
      "            \"final plot point\"\n",
      "            ]\n",
      "    },\n",
      "    \n",
      "    ...\n",
      "    \n",
      "    {\n",
      "        \"chapter_number\": final chapter number,\n",
      "        \"title\": \"chapter title\",\n",
      "        \"plot_points\": [\n",
      "            \"plot point 1\",\n",
      "            \"plot point 2\",\n",
      "            ...\n",
      "            \"final plot point\"\n",
      "            ]\n",
      "    }\n",
      "}\n",
      "\n",
      "\n"
     ]
    }
   ],
   "source": [
    "print(full_prompt)"
   ]
  },
  {
   "cell_type": "code",
   "execution_count": 39,
   "id": "fe6db531-725a-488d-bc6d-4c6572814a30",
   "metadata": {},
   "outputs": [
    {
     "data": {
      "text/plain": [
       "<OpenAIObject chat.completion id=chatcmpl-7mghwdhQtreL40aPuDmEyykO4Ueny at 0x7fadbfda4cc0> JSON: {\n",
       "  \"id\": \"chatcmpl-7mghwdhQtreL40aPuDmEyykO4Ueny\",\n",
       "  \"object\": \"chat.completion\",\n",
       "  \"created\": 1691838268,\n",
       "  \"model\": \"gpt-3.5-turbo-0613\",\n",
       "  \"choices\": [\n",
       "    {\n",
       "      \"index\": 0,\n",
       "      \"message\": {\n",
       "        \"role\": \"assistant\",\n",
       "        \"content\": \"{\\n\\\"chapters\\\": [\\n    {\\n        \\\"chapter_number\\\": 1,\\n        \\\"title\\\": \\\"The Reunion\\\",\\n        \\\"plot_points\\\": [\\n            \\\"Harry and Ginny reunite at the Burrow for the summer vacation\\\",\\n            \\\"They share a passionate kiss, reigniting their feelings for each other\\\",\\n            \\\"Ginny invites Harry to her room to catch up on lost time\\\",\\n            \\\"They spend the night together, exploring their desires\\\"\\n            ]\\n    },\\n    {\\n        \\\"chapter_number\\\": 2,\\n        \\\"title\\\": \\\"Forbidden Desires\\\",\\n        \\\"plot_points\\\": [\\n            \\\"Harry and Ginny struggle with their intense attraction\\\",\\n            \\\"They find secret moments to be alone and explore their desires\\\",\\n            \\\"They engage in steamy encounters in hidden places around Hogwarts\\\",\\n            \\\"Their passion grows stronger, but they fear the consequences\\\"\\n            ]\\n    },\\n    {\\n        \\\"chapter_number\\\": 3,\\n        \\\"title\\\": \\\"Conflicting Loyalties\\\",\\n        \\\"plot_points\\\": [\\n            \\\"Harry and Ginny's secret relationship becomes more complicated\\\",\\n            \\\"They struggle with their loyalty to their friends and family\\\",\\n            \\\"They face challenges as their desires clash with their responsibilities\\\",\\n            \\\"They must decide if their love is worth the risks\\\"\\n            ]\\n    },\\n    {\\n        \\\"chapter_number\\\": 4,\\n        \\\"title\\\": \\\"The Forbidden Room\\\",\\n        \\\"plot_points\\\": [\\n            \\\"Harry and Ginny discover a hidden room in Hogwarts\\\",\\n            \\\"They use it as their secret meeting place\\\",\\n            \\\"They indulge in their deepest fantasies and explore new boundaries\\\",\\n            \\\"Their connection deepens as they share their most intimate desires\\\"\\n            ]\\n    },\\n    {\\n        \\\"chapter_number\\\": 5,\\n        \\\"title\\\": \\\"The Threat of Exposure\\\",\\n        \\\"plot_points\\\": [\\n            \\\"Rumors start circulating about Harry and Ginny's relationship\\\",\\n            \\\"They face the risk of being exposed and the consequences that come with it\\\",\\n            \\\"They must confront their fears and make difficult choices\\\",\\n            \\\"Their love is tested as they navigate the challenges of secrecy\\\"\\n            ]\\n    },\\n    {\\n        \\\"chapter_number\\\": 6,\\n        \\\"title\\\": \\\"Love Conquers All\\\",\\n        \\\"plot_points\\\": [\\n            \\\"Harry and Ginny decide to face the consequences together\\\",\\n            \\\"They reveal their relationship to their friends and family\\\",\\n            \\\"Despite initial resistance, their loved ones accept their love\\\",\\n            \\\"They embrace their future together, knowing that love conquers all\\\"\\n            ]\\n    }\\n]\\n}\"\n",
       "      },\n",
       "      \"finish_reason\": \"stop\"\n",
       "    }\n",
       "  ],\n",
       "  \"usage\": {\n",
       "    \"prompt_tokens\": 259,\n",
       "    \"completion_tokens\": 509,\n",
       "    \"total_tokens\": 768\n",
       "  }\n",
       "}"
      ]
     },
     "execution_count": 39,
     "metadata": {},
     "output_type": "execute_result"
    }
   ],
   "source": [
    "# Example OpenAI Python library request\n",
    "MODEL = 'gpt-3.5-turbo'\n",
    "response = openai.ChatCompletion.create(\n",
    "    model=MODEL,\n",
    "    messages=[\n",
    "        {'role': 'system', 'content': 'You are a helpful writing assistant.'},\n",
    "        {'role': 'user', \"content\": full_prompt},\n",
    "    ],\n",
    "    temperature=0,\n",
    ")\n",
    "\n",
    "response"
   ]
  },
  {
   "cell_type": "code",
   "execution_count": 40,
   "id": "c3764c71-10fa-42ee-a607-73dc25386d10",
   "metadata": {},
   "outputs": [],
   "source": [
    "out_json = response['choices'][0]['message']['content']"
   ]
  },
  {
   "cell_type": "code",
   "execution_count": 41,
   "id": "9a6627df-2135-439e-8586-d471a953d842",
   "metadata": {},
   "outputs": [
    {
     "name": "stdout",
     "output_type": "stream",
     "text": [
      "{\n",
      "\"chapters\": [\n",
      "    {\n",
      "        \"chapter_number\": 1,\n",
      "        \"title\": \"The Reunion\",\n",
      "        \"plot_points\": [\n",
      "            \"Harry and Ginny reunite at the Burrow for the summer vacation\",\n",
      "            \"They share a passionate kiss, reigniting their feelings for each other\",\n",
      "            \"Ginny invites Harry to her room to catch up on lost time\",\n",
      "            \"They spend the night together, exploring their desires\"\n",
      "            ]\n",
      "    },\n",
      "    {\n",
      "        \"chapter_number\": 2,\n",
      "        \"title\": \"Forbidden Desires\",\n",
      "        \"plot_points\": [\n",
      "            \"Harry and Ginny struggle with their intense attraction\",\n",
      "            \"They find secret moments to be alone and explore their desires\",\n",
      "            \"They engage in steamy encounters in hidden places around Hogwarts\",\n",
      "            \"Their passion grows stronger, but they fear the consequences\"\n",
      "            ]\n",
      "    },\n",
      "    {\n",
      "        \"chapter_number\": 3,\n",
      "        \"title\": \"Conflicting Loyalties\",\n",
      "        \"plot_points\": [\n",
      "            \"Harry and Ginny's secret relationship becomes more complicated\",\n",
      "            \"They struggle with their loyalty to their friends and family\",\n",
      "            \"They face challenges as their desires clash with their responsibilities\",\n",
      "            \"They must decide if their love is worth the risks\"\n",
      "            ]\n",
      "    },\n",
      "    {\n",
      "        \"chapter_number\": 4,\n",
      "        \"title\": \"The Forbidden Room\",\n",
      "        \"plot_points\": [\n",
      "            \"Harry and Ginny discover a hidden room in Hogwarts\",\n",
      "            \"They use it as their secret meeting place\",\n",
      "            \"They indulge in their deepest fantasies and explore new boundaries\",\n",
      "            \"Their connection deepens as they share their most intimate desires\"\n",
      "            ]\n",
      "    },\n",
      "    {\n",
      "        \"chapter_number\": 5,\n",
      "        \"title\": \"The Threat of Exposure\",\n",
      "        \"plot_points\": [\n",
      "            \"Rumors start circulating about Harry and Ginny's relationship\",\n",
      "            \"They face the risk of being exposed and the consequences that come with it\",\n",
      "            \"They must confront their fears and make difficult choices\",\n",
      "            \"Their love is tested as they navigate the challenges of secrecy\"\n",
      "            ]\n",
      "    },\n",
      "    {\n",
      "        \"chapter_number\": 6,\n",
      "        \"title\": \"Love Conquers All\",\n",
      "        \"plot_points\": [\n",
      "            \"Harry and Ginny decide to face the consequences together\",\n",
      "            \"They reveal their relationship to their friends and family\",\n",
      "            \"Despite initial resistance, their loved ones accept their love\",\n",
      "            \"They embrace their future together, knowing that love conquers all\"\n",
      "            ]\n",
      "    }\n",
      "]\n",
      "}\n"
     ]
    }
   ],
   "source": [
    "print(out_json)"
   ]
  },
  {
   "cell_type": "code",
   "execution_count": null,
   "id": "c15bf212-8cd3-4c37-b12d-850a20ef0de0",
   "metadata": {},
   "outputs": [],
   "source": []
  }
 ],
 "metadata": {
  "kernelspec": {
   "display_name": "Python 3 (ipykernel)",
   "language": "python",
   "name": "python3"
  },
  "language_info": {
   "codemirror_mode": {
    "name": "ipython",
    "version": 3
   },
   "file_extension": ".py",
   "mimetype": "text/x-python",
   "name": "python",
   "nbconvert_exporter": "python",
   "pygments_lexer": "ipython3",
   "version": "3.10.10"
  }
 },
 "nbformat": 4,
 "nbformat_minor": 5
}
